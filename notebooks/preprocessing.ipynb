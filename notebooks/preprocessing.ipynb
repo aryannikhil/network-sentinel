{
 "cells": [
  {
   "cell_type": "code",
   "execution_count": 2,
   "id": "62adc5f9",
   "metadata": {},
   "outputs": [],
   "source": [
    "import pandas as pd\n"
   ]
  },
  {
   "cell_type": "code",
   "execution_count": 3,
   "id": "2b72dd40",
   "metadata": {},
   "outputs": [],
   "source": [
    "# Path to train & test datasets\n",
    "train_path= '../data/raw/training/UNSW_NB15_training-set.csv'\n",
    "test_path= '../data/raw/testing/UNSW_NB15_testing-set.csv'\n",
    "\n",
    "# Load train & test datasets\n",
    "train_df= pd.read_csv(train_path)\n",
    "test_df= pd.read_csv(test_path)\n",
    "\n",
    "# Combine test$training for exploaration (but keep train/test info seprately)\n",
    "df= pd.concat([train_df, test_df], ignore_index=True)"
   ]
  },
  {
   "cell_type": "code",
   "execution_count": 4,
   "id": "d07d3d86",
   "metadata": {},
   "outputs": [
    {
     "name": "stdout",
     "output_type": "stream",
     "text": [
      "id                   0\n",
      "dur                  0\n",
      "proto                0\n",
      "service              0\n",
      "state                0\n",
      "spkts                0\n",
      "dpkts                0\n",
      "sbytes               0\n",
      "dbytes               0\n",
      "rate                 0\n",
      "sttl                 0\n",
      "dttl                 0\n",
      "sload                0\n",
      "dload                0\n",
      "sloss                0\n",
      "dloss                0\n",
      "sinpkt               0\n",
      "dinpkt               0\n",
      "sjit                 0\n",
      "djit                 0\n",
      "swin                 0\n",
      "stcpb                0\n",
      "dtcpb                0\n",
      "dwin                 0\n",
      "tcprtt               0\n",
      "synack               0\n",
      "ackdat               0\n",
      "smean                0\n",
      "dmean                0\n",
      "trans_depth          0\n",
      "response_body_len    0\n",
      "ct_srv_src           0\n",
      "ct_state_ttl         0\n",
      "ct_dst_ltm           0\n",
      "ct_src_dport_ltm     0\n",
      "ct_dst_sport_ltm     0\n",
      "ct_dst_src_ltm       0\n",
      "is_ftp_login         0\n",
      "ct_ftp_cmd           0\n",
      "ct_flw_http_mthd     0\n",
      "ct_src_ltm           0\n",
      "ct_srv_dst           0\n",
      "is_sm_ips_ports      0\n",
      "attack_cat           0\n",
      "label                0\n",
      "dtype: int64\n"
     ]
    }
   ],
   "source": [
    "# Numbers of missing value per columns\n",
    "print(df.isnull().sum())"
   ]
  },
  {
   "cell_type": "code",
   "execution_count": 5,
   "id": "76d2e8fb",
   "metadata": {},
   "outputs": [
    {
     "name": "stdout",
     "output_type": "stream",
     "text": [
      "proto\n",
      "tcp       123041\n",
      "udp        92701\n",
      "unas       15599\n",
      "arp         3846\n",
      "ospf        3271\n",
      "           ...  \n",
      "egp          131\n",
      "netblt       131\n",
      "igmp          48\n",
      "icmp          15\n",
      "rtp            1\n",
      "Name: count, Length: 133, dtype: int64\n",
      "service\n",
      "-           141321\n",
      "dns          68661\n",
      "http         27011\n",
      "smtp          6909\n",
      "ftp-data      5391\n",
      "ftp           4980\n",
      "pop3          1528\n",
      "ssh           1506\n",
      "dhcp           120\n",
      "snmp           109\n",
      "ssl             86\n",
      "irc             30\n",
      "radius          21\n",
      "Name: count, dtype: int64\n",
      "state\n",
      "FIN    117164\n",
      "INT    116438\n",
      "CON     20134\n",
      "REQ      3833\n",
      "RST        84\n",
      "ECO        12\n",
      "ACC         4\n",
      "PAR         1\n",
      "URN         1\n",
      "no          1\n",
      "CLO         1\n",
      "Name: count, dtype: int64\n",
      "attack_cat\n",
      "Normal            93000\n",
      "Generic           58871\n",
      "Exploits          44525\n",
      "Fuzzers           24246\n",
      "DoS               16353\n",
      "Reconnaissance    13987\n",
      "Analysis           2677\n",
      "Backdoor           2329\n",
      "Shellcode          1511\n",
      "Worms               174\n",
      "Name: count, dtype: int64\n"
     ]
    }
   ],
   "source": [
    "cat_cols= df.select_dtypes(include=['object']).columns.tolist()\n",
    "for cols in cat_cols:\n",
    "    print(df[cols].value_counts())"
   ]
  },
  {
   "cell_type": "code",
   "execution_count": 6,
   "id": "079c9195",
   "metadata": {},
   "outputs": [],
   "source": [
    "# Seperate input features (x) from target label (y) for model training.\n",
    "\n",
    "# Features\n",
    "x= df.drop(columns=['label', 'attack_cat', 'id'])\n",
    "\n",
    "# Target (binary)\n",
    "y= df['label']\n",
    "\n",
    "# Target (multi-class)\n",
    "y_multi= df['attack_cat']"
   ]
  },
  {
   "cell_type": "code",
   "execution_count": 7,
   "id": "e3d5f998",
   "metadata": {},
   "outputs": [],
   "source": [
    "# Convert categorical variables to numerical variables\n",
    "cat_cols= ['proto', 'service', 'state']\n",
    "target_bin= 'label'\n",
    "target_multi= 'attack_cat'\n",
    "drop_col= ['id']\n",
    "\n",
    "num_cols= [col for col in train_df if col not in cat_cols+[target_bin, target_multi]+drop_col]\n",
    "\n",
    "\n"
   ]
  },
  {
   "cell_type": "code",
   "execution_count": 9,
   "id": "29328771",
   "metadata": {},
   "outputs": [],
   "source": [
    "# formating categories\n",
    "for df_ in (train_df, test_df):\n",
    "    df_['service']= df_['service'].replace('-', 'unknown').astype(str).str.strip().str.lower()\n",
    "    for c in cat_cols: \n",
    "        df_[c] = df_[c].astype(str).str.strip().str.lower()"
   ]
  },
  {
   "cell_type": "code",
   "execution_count": 10,
   "id": "ad676fc4",
   "metadata": {},
   "outputs": [],
   "source": [
    "# collapse rare categories\n",
    "min_count= 30\n",
    "rare_proto= train_df['proto'].value_counts()[lambda x: x<min_count].index\n",
    "\n",
    "train_df['proto']= train_df['proto'].where(train_df['proto'].isin(rare_proto), 'other')\n",
    "test_df['proto']= test_df['proto'].where(test_df['proto'].isin(rare_proto), 'other')\n"
   ]
  },
  {
   "cell_type": "code",
   "execution_count": 12,
   "id": "0bc7dd5c",
   "metadata": {},
   "outputs": [],
   "source": [
    "# Build X and y\n",
    "X_train= train_df.drop(columns=[target_bin, target_multi])\n",
    "y_train= train_df[target_bin]\n",
    "\n",
    "X_test= test_df.drop(columns=[target_bin, target_multi])\n",
    "y_test= test_df[target_bin]\n",
    "\n"
   ]
  },
  {
   "cell_type": "code",
   "execution_count": null,
   "id": "850d1d34",
   "metadata": {},
   "outputs": [],
   "source": [
    "# encode categories\n",
    "from sklearn.preprocessing import OneHotEncoder\n",
    "from sklearn.compose import ColumnTransformer\n",
    "from sklearn.pipeline import Pipeline\n",
    "from sklearn.preprocessing import StandardScaler    \n"
   ]
  }
 ],
 "metadata": {
  "kernelspec": {
   "display_name": ".venv",
   "language": "python",
   "name": "python3"
  },
  "language_info": {
   "codemirror_mode": {
    "name": "ipython",
    "version": 3
   },
   "file_extension": ".py",
   "mimetype": "text/x-python",
   "name": "python",
   "nbconvert_exporter": "python",
   "pygments_lexer": "ipython3",
   "version": "3.13.4"
  }
 },
 "nbformat": 4,
 "nbformat_minor": 5
}
