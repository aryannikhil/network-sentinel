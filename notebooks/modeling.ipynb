{
 "cells": [
  {
   "cell_type": "markdown",
   "id": "5394e45b",
   "metadata": {},
   "source": [
    "## Model Selection (Baseline Model)"
   ]
  },
  {
   "cell_type": "code",
   "execution_count": 1,
   "id": "bebf5131",
   "metadata": {},
   "outputs": [],
   "source": [
    "import os\n",
    "import pandas as pd\n",
    "import numpy as np\n",
    "import joblib\n",
    "import matplotlib.pyplot as plt\n",
    "\n",
    "from sklearn.model_selection import StratifiedKFold, cross_validate, train_test_split\n",
    "from sklearn.pipeline import Pipeline\n",
    "from sklearn.impute import SimpleImputer\n",
    "from sklearn.preprocessing import StandardScaler\n",
    "from sklearn.linear_model import LogisticRegression\n",
    "from sklearn.tree import DecisionTreeClassifier\n",
    "from sklearn.metrics import classification_report, confusion_matrix, roc_auc_score\n",
    "\n",
    "RANDOM_STATE = 42"
   ]
  },
  {
   "cell_type": "code",
   "execution_count": 2,
   "id": "570b0879",
   "metadata": {},
   "outputs": [
    {
     "name": "stdout",
     "output_type": "stream",
     "text": [
      "Train shape: (175341, 54) Test shape: (82332, 54)\n",
      "Target distribution (train):\n",
      " label\n",
      "1    0.680622\n",
      "0    0.319378\n",
      "Name: proportion, dtype: float64\n"
     ]
    }
   ],
   "source": [
    "# load processed data\n",
    "train_path= \"../data/processed/train/train_processed.csv\"\n",
    "test_path= \"../data/processed/test/test_processed.csv\"\n",
    "\n",
    "if os.path.exists(train_path) and os.path.exists(test_path):\n",
    "    train_df= pd.read_csv(train_path)\n",
    "    test_df= pd.read_csv(test_path)\n",
    "else:\n",
    "    proc_path= \"../data/processed/processed_all/processed_all.csv\"\n",
    "    proc_df= pd.read_csv(proc_path)\n",
    "    train_df, test_df= train_test_split(\n",
    "        proc_df,\n",
    "        test_size=0.2,\n",
    "        random_state=RANDOM_STATE\n",
    "    )\n",
    "\n",
    "# target column (binary classification: 0=normal, 1=attack)\n",
    "TARGET= 'label'\n",
    "\n",
    "X_train = train_df.drop(columns=[TARGET])\n",
    "y_train = train_df[TARGET]\n",
    "\n",
    "X_test  = test_df.drop(columns=[TARGET])\n",
    "y_test  = test_df[TARGET]\n",
    "\n",
    "print(\"Train shape:\", X_train.shape, \"Test shape:\", X_test.shape)\n",
    "print(\"Target distribution (train):\\n\", y_train.value_counts(normalize=True))\n"
   ]
  },
  {
   "cell_type": "code",
   "execution_count": 4,
   "id": "1fca0e75",
   "metadata": {},
   "outputs": [],
   "source": [
    "# cv & evaluation helper functions\n",
    "from sklearn.model_selection import StratifiedKFold, cross_validate\n",
    "from sklearn.metrics import classification_report, confusion_matrix, roc_auc_score\n",
    "\n",
    "cv= StratifiedKFold(n_splits=5, shuffle=True, random_state=RANDOM_STATE)\n",
    "\n",
    "def cv_scores(model, X, y, cv=cv):\n",
    "    \"\"\"Returns cross-validation scores for a model.\"\"\"\n",
    "    scoring= ['accuracy', 'precision', 'recall', 'f1', 'roc_auc']\n",
    "    res= cross_validate(model, X, y, cv=cv, scoring=scoring, n_jobs=1)\n",
    "    summary= {k.replace('test_', ''): np.mean(v) for k, v in res.items() if k.startswith('test_')}\n",
    "    return summary\n"
   ]
  }
 ],
 "metadata": {
  "kernelspec": {
   "display_name": ".venv",
   "language": "python",
   "name": "python3"
  },
  "language_info": {
   "codemirror_mode": {
    "name": "ipython",
    "version": 3
   },
   "file_extension": ".py",
   "mimetype": "text/x-python",
   "name": "python",
   "nbconvert_exporter": "python",
   "pygments_lexer": "ipython3",
   "version": "3.13.4"
  }
 },
 "nbformat": 4,
 "nbformat_minor": 5
}
