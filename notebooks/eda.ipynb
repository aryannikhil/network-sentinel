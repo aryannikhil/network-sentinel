{
 "cells": [
  {
   "cell_type": "code",
   "execution_count": 2,
   "id": "355a71eb",
   "metadata": {},
   "outputs": [],
   "source": [
    "import pandas as pd\n"
   ]
  },
  {
   "cell_type": "code",
   "execution_count": 3,
   "id": "f9ed06de",
   "metadata": {},
   "outputs": [
    {
     "name": "stdout",
     "output_type": "stream",
     "text": [
      "TrainingDateset shape: (175341, 45)\n",
      "TestingDateset shape: (82332, 45)\n",
      "CombinedDateset shape: (257673, 45)\n"
     ]
    }
   ],
   "source": [
    "# Path to train & test datasets\n",
    "train_path= '../data/raw/training/UNSW_NB15_training-set.csv'\n",
    "test_path= '../data/raw/testing/UNSW_NB15_testing-set.csv'\n",
    "\n",
    "# Load train & test datasets\n",
    "train_df= pd.read_csv(train_path)\n",
    "test_df= pd.read_csv(test_path)\n",
    "\n",
    "# Combine test$training for exploaration (but keep train/test info seprately)\n",
    "df= pd.concat([train_df, test_df], ignore_index=True)\n",
    "\n",
    "print(\"TrainingDateset shape:\", train_df.shape)\n",
    "print(\"TestingDateset shape:\", test_df.shape)\n",
    "print(\"CombinedDateset shape:\", df.shape)\n",
    "\n",
    "\n"
   ]
  },
  {
   "cell_type": "code",
   "execution_count": 4,
   "id": "41632113",
   "metadata": {},
   "outputs": [
    {
     "name": "stdout",
     "output_type": "stream",
     "text": [
      "   id       dur proto service state  spkts  dpkts  sbytes  dbytes       rate  \\\n",
      "0   1  0.121478   tcp       -   FIN      6      4     258     172  74.087490   \n",
      "1   2  0.649902   tcp       -   FIN     14     38     734   42014  78.473372   \n",
      "2   3  1.623129   tcp       -   FIN      8     16     364   13186  14.170161   \n",
      "3   4  1.681642   tcp     ftp   FIN     12     12     628     770  13.677108   \n",
      "4   5  0.449454   tcp       -   FIN     10      6     534     268  33.373826   \n",
      "5   6  0.380537   tcp       -   FIN     10      6     534     268  39.417980   \n",
      "6   7  0.637109   tcp       -   FIN     10      8     534     354  26.683033   \n",
      "7   8  0.521584   tcp       -   FIN     10      8     534     354  32.593026   \n",
      "8   9  0.542905   tcp       -   FIN     10      8     534     354  31.313031   \n",
      "9  10  0.258687   tcp       -   FIN     10      6     534     268  57.985135   \n",
      "\n",
      "   ...  ct_dst_sport_ltm  ct_dst_src_ltm  is_ftp_login  ct_ftp_cmd  \\\n",
      "0  ...                 1               1             0           0   \n",
      "1  ...                 1               2             0           0   \n",
      "2  ...                 1               3             0           0   \n",
      "3  ...                 1               3             1           1   \n",
      "4  ...                 1              40             0           0   \n",
      "5  ...                 1              40             0           0   \n",
      "6  ...                 1              40             0           0   \n",
      "7  ...                 1              40             0           0   \n",
      "8  ...                 1              40             0           0   \n",
      "9  ...                 1              40             0           0   \n",
      "\n",
      "   ct_flw_http_mthd  ct_src_ltm  ct_srv_dst  is_sm_ips_ports  attack_cat  \\\n",
      "0                 0           1           1                0      Normal   \n",
      "1                 0           1           6                0      Normal   \n",
      "2                 0           2           6                0      Normal   \n",
      "3                 0           2           1                0      Normal   \n",
      "4                 0           2          39                0      Normal   \n",
      "5                 0           2          39                0      Normal   \n",
      "6                 0           1          39                0      Normal   \n",
      "7                 0           3          39                0      Normal   \n",
      "8                 0           3          39                0      Normal   \n",
      "9                 0           3          39                0      Normal   \n",
      "\n",
      "   label  \n",
      "0      0  \n",
      "1      0  \n",
      "2      0  \n",
      "3      0  \n",
      "4      0  \n",
      "5      0  \n",
      "6      0  \n",
      "7      0  \n",
      "8      0  \n",
      "9      0  \n",
      "\n",
      "[10 rows x 45 columns]\n"
     ]
    }
   ],
   "source": [
    "# Preview the first 10 rows of the dataset\n",
    "print(df.head(10))"
   ]
  },
  {
   "cell_type": "code",
   "execution_count": 5,
   "id": "8006acec",
   "metadata": {},
   "outputs": [
    {
     "name": "stdout",
     "output_type": "stream",
     "text": [
      "<class 'pandas.core.frame.DataFrame'>\n",
      "RangeIndex: 257673 entries, 0 to 257672\n",
      "Data columns (total 45 columns):\n",
      " #   Column             Non-Null Count   Dtype  \n",
      "---  ------             --------------   -----  \n",
      " 0   id                 257673 non-null  int64  \n",
      " 1   dur                257673 non-null  float64\n",
      " 2   proto              257673 non-null  object \n",
      " 3   service            257673 non-null  object \n",
      " 4   state              257673 non-null  object \n",
      " 5   spkts              257673 non-null  int64  \n",
      " 6   dpkts              257673 non-null  int64  \n",
      " 7   sbytes             257673 non-null  int64  \n",
      " 8   dbytes             257673 non-null  int64  \n",
      " 9   rate               257673 non-null  float64\n",
      " 10  sttl               257673 non-null  int64  \n",
      " 11  dttl               257673 non-null  int64  \n",
      " 12  sload              257673 non-null  float64\n",
      " 13  dload              257673 non-null  float64\n",
      " 14  sloss              257673 non-null  int64  \n",
      " 15  dloss              257673 non-null  int64  \n",
      " 16  sinpkt             257673 non-null  float64\n",
      " 17  dinpkt             257673 non-null  float64\n",
      " 18  sjit               257673 non-null  float64\n",
      " 19  djit               257673 non-null  float64\n",
      " 20  swin               257673 non-null  int64  \n",
      " 21  stcpb              257673 non-null  int64  \n",
      " 22  dtcpb              257673 non-null  int64  \n",
      " 23  dwin               257673 non-null  int64  \n",
      " 24  tcprtt             257673 non-null  float64\n",
      " 25  synack             257673 non-null  float64\n",
      " 26  ackdat             257673 non-null  float64\n",
      " 27  smean              257673 non-null  int64  \n",
      " 28  dmean              257673 non-null  int64  \n",
      " 29  trans_depth        257673 non-null  int64  \n",
      " 30  response_body_len  257673 non-null  int64  \n",
      " 31  ct_srv_src         257673 non-null  int64  \n",
      " 32  ct_state_ttl       257673 non-null  int64  \n",
      " 33  ct_dst_ltm         257673 non-null  int64  \n",
      " 34  ct_src_dport_ltm   257673 non-null  int64  \n",
      " 35  ct_dst_sport_ltm   257673 non-null  int64  \n",
      " 36  ct_dst_src_ltm     257673 non-null  int64  \n",
      " 37  is_ftp_login       257673 non-null  int64  \n",
      " 38  ct_ftp_cmd         257673 non-null  int64  \n",
      " 39  ct_flw_http_mthd   257673 non-null  int64  \n",
      " 40  ct_src_ltm         257673 non-null  int64  \n",
      " 41  ct_srv_dst         257673 non-null  int64  \n",
      " 42  is_sm_ips_ports    257673 non-null  int64  \n",
      " 43  attack_cat         257673 non-null  object \n",
      " 44  label              257673 non-null  int64  \n",
      "dtypes: float64(11), int64(30), object(4)\n",
      "memory usage: 88.5+ MB\n",
      "None\n"
     ]
    }
   ],
   "source": [
    "# Get information about the dataset\n",
    "print(df.info())"
   ]
  },
  {
   "cell_type": "code",
   "execution_count": 6,
   "id": "1b401f91",
   "metadata": {},
   "outputs": [
    {
     "name": "stdout",
     "output_type": "stream",
     "text": [
      "                  id            dur          spkts          dpkts  \\\n",
      "count  257673.000000  257673.000000  257673.000000  257673.000000   \n",
      "mean    72811.823858       1.246715      19.777144      18.514703   \n",
      "std     48929.917641       5.974305     135.947152     111.985965   \n",
      "min         1.000000       0.000000       1.000000       0.000000   \n",
      "25%     32210.000000       0.000008       2.000000       0.000000   \n",
      "50%     64419.000000       0.004285       4.000000       2.000000   \n",
      "75%    110923.000000       0.685777      12.000000      10.000000   \n",
      "max    175341.000000      59.999989   10646.000000   11018.000000   \n",
      "\n",
      "             sbytes        dbytes          rate           sttl           dttl  \\\n",
      "count  2.576730e+05  2.576730e+05  2.576730e+05  257673.000000  257673.000000   \n",
      "mean   8.572952e+03  1.438729e+04  9.125391e+04     180.000931      84.754957   \n",
      "std    1.737739e+05  1.461993e+05  1.603446e+05     102.488268     112.762131   \n",
      "min    2.400000e+01  0.000000e+00  0.000000e+00       0.000000       0.000000   \n",
      "25%    1.140000e+02  0.000000e+00  3.078928e+01      62.000000       0.000000   \n",
      "50%    5.280000e+02  1.780000e+02  2.955665e+03     254.000000      29.000000   \n",
      "75%    1.362000e+03  1.064000e+03  1.250000e+05     254.000000     252.000000   \n",
      "max    1.435577e+07  1.465753e+07  1.000000e+06     255.000000     254.000000   \n",
      "\n",
      "              sload  ...  ct_src_dport_ltm  ct_dst_sport_ltm  ct_dst_src_ltm  \\\n",
      "count  2.576730e+05  ...     257673.000000     257673.000000   257673.000000   \n",
      "mean   7.060869e+07  ...          5.238271          4.032677        8.322964   \n",
      "std    1.857313e+08  ...          8.160822          5.831515       11.120754   \n",
      "min    0.000000e+00  ...          1.000000          1.000000        1.000000   \n",
      "25%    1.231800e+04  ...          1.000000          1.000000        1.000000   \n",
      "50%    7.439423e+05  ...          1.000000          1.000000        3.000000   \n",
      "75%    8.000000e+07  ...          4.000000          3.000000        8.000000   \n",
      "max    5.988000e+09  ...         59.000000         46.000000       65.000000   \n",
      "\n",
      "        is_ftp_login     ct_ftp_cmd  ct_flw_http_mthd     ct_src_ltm  \\\n",
      "count  257673.000000  257673.000000     257673.000000  257673.000000   \n",
      "mean        0.012819       0.012850          0.132005       6.800045   \n",
      "std         0.116091       0.116421          0.681854       8.396266   \n",
      "min         0.000000       0.000000          0.000000       1.000000   \n",
      "25%         0.000000       0.000000          0.000000       2.000000   \n",
      "50%         0.000000       0.000000          0.000000       3.000000   \n",
      "75%         0.000000       0.000000          0.000000       8.000000   \n",
      "max         4.000000       4.000000         30.000000      60.000000   \n",
      "\n",
      "          ct_srv_dst  is_sm_ips_ports          label  \n",
      "count  257673.000000    257673.000000  257673.000000  \n",
      "mean        9.121049         0.014274       0.639077  \n",
      "std        10.874752         0.118618       0.480269  \n",
      "min         1.000000         0.000000       0.000000  \n",
      "25%         2.000000         0.000000       0.000000  \n",
      "50%         4.000000         0.000000       1.000000  \n",
      "75%        11.000000         0.000000       1.000000  \n",
      "max        62.000000         1.000000       1.000000  \n",
      "\n",
      "[8 rows x 41 columns]\n"
     ]
    }
   ],
   "source": [
    "# Get summary statistics of the dataset\n",
    "print(df.describe())"
   ]
  },
  {
   "cell_type": "code",
   "execution_count": 7,
   "id": "288a4a21",
   "metadata": {},
   "outputs": [
    {
     "data": {
      "text/plain": [
       "id         0\n",
       "dur        0\n",
       "proto      0\n",
       "service    0\n",
       "state      0\n",
       "spkts      0\n",
       "dpkts      0\n",
       "sbytes     0\n",
       "dbytes     0\n",
       "rate       0\n",
       "dtype: int64"
      ]
     },
     "execution_count": 7,
     "metadata": {},
     "output_type": "execute_result"
    }
   ],
   "source": [
    "# missing values\n",
    "df.isnull().sum().sort_values(ascending=False).head(10)\n"
   ]
  },
  {
   "cell_type": "code",
   "execution_count": 8,
   "id": "64458ed2",
   "metadata": {},
   "outputs": [
    {
     "name": "stdout",
     "output_type": "stream",
     "text": [
      "label\n",
      "1    0.639077\n",
      "0    0.360923\n",
      "Name: proportion, dtype: float64\n"
     ]
    }
   ],
   "source": [
    "# Binary lavel distribution\n",
    "print(df['label'].value_counts(normalize=True))"
   ]
  },
  {
   "cell_type": "code",
   "execution_count": 9,
   "id": "159f3c4e",
   "metadata": {},
   "outputs": [
    {
     "name": "stdout",
     "output_type": "stream",
     "text": [
      "attack_cat\n",
      "Normal            0.360923\n",
      "Generic           0.228472\n",
      "Exploits          0.172797\n",
      "Fuzzers           0.094096\n",
      "DoS               0.063464\n",
      "Reconnaissance    0.054282\n",
      "Analysis          0.010389\n",
      "Backdoor          0.009039\n",
      "Shellcode         0.005864\n",
      "Worms             0.000675\n",
      "Name: proportion, dtype: float64\n"
     ]
    }
   ],
   "source": [
    "# attack categories distribution\n",
    "print(df['attack_cat'].value_counts(normalize=True))"
   ]
  },
  {
   "cell_type": "code",
   "execution_count": null,
   "id": "33903136",
   "metadata": {},
   "outputs": [],
   "source": [
    "import matplotlib.pyplot as plt\n",
    "from turtle import title"
   ]
  },
  {
   "cell_type": "code",
   "execution_count": 15,
   "id": "5fcf9fa6",
   "metadata": {},
   "outputs": [
    {
     "data": {
      "image/png": "[encoded data removed]",
      "text/plain": [
       "<Figure size 1000x600 with 1 Axes>"
      ]
     },
     "metadata": {},
     "output_type": "display_data"
    }
   ],
   "source": [
    "\n",
    "df['attack_cat'].value_counts().plot(kind='bar', figsize=(10,6), title=\"Attack Category Distribution\")\n",
    "plt.show()"
   ]
  },
  {
   "cell_type": "code",
   "execution_count": 16,
   "id": "670825f8",
   "metadata": {},
   "outputs": [
    {
     "name": "stdout",
     "output_type": "stream",
     "text": [
      "Protocols: ['tcp' 'udp' 'arp' 'ospf' 'icmp' 'igmp' 'rtp' 'ddp' 'ipv6-frag' 'cftp']\n",
      "Services: ['-' 'ftp' 'smtp' 'snmp' 'http' 'ftp-data' 'dns' 'ssh' 'radius' 'pop3']\n",
      "States: ['FIN' 'INT' 'CON' 'ECO' 'REQ' 'RST' 'PAR' 'URN' 'no' 'ACC']\n"
     ]
    }
   ],
   "source": [
    "# list of all columns\n",
    "df.columns.tolist()\n",
    "\n",
    "# Example: unique values in protocol\n",
    "print(\"Protocols:\", df['proto'].unique()[:10])\n",
    "print(\"Services:\", df['service'].unique()[:10])\n",
    "print(\"States:\", df['state'].unique()[:10])"
   ]
  },
  {
   "cell_type": "code",
   "execution_count": null,
   "id": "6327f30f",
   "metadata": {},
   "outputs": [],
   "source": []
  }
 ],
 "metadata": {
  "kernelspec": {
   "display_name": ".venv",
   "language": "python",
   "name": "python3"
  },
  "language_info": {
   "codemirror_mode": {
    "name": "ipython",
    "version": 3
   },
   "file_extension": ".py",
   "mimetype": "text/x-python",
   "name": "python",
   "nbconvert_exporter": "python",
   "pygments_lexer": "ipython3",
   "version": "3.13.4"
  }
 },
 "nbformat": 4,
 "nbformat_minor": 5
}
